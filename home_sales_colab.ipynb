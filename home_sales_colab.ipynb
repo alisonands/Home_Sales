{
  "cells": [
    {
      "cell_type": "code",
      "execution_count": 1,
      "metadata": {
        "colab": {
          "base_uri": "https://localhost:8080/"
        },
        "id": "a_KW73O2e3dw",
        "outputId": "3296cc60-103f-4be1-dc18-8c00343cf005"
      },
      "outputs": [
        {
          "name": "stdout",
          "output_type": "stream",
          "text": [
            "\r0% [Working]\r            \rHit:1 http://security.ubuntu.com/ubuntu jammy-security InRelease\n",
            "\r0% [Connecting to archive.ubuntu.com (185.125.190.36)] [Connected to cloud.r-project.org (108.157.17\r                                                                                                    \rHit:2 https://cloud.r-project.org/bin/linux/ubuntu jammy-cran40/ InRelease\n",
            "Hit:3 https://developer.download.nvidia.com/compute/cuda/repos/ubuntu2204/x86_64  InRelease\n",
            "Hit:4 http://archive.ubuntu.com/ubuntu jammy InRelease\n",
            "Get:5 http://archive.ubuntu.com/ubuntu jammy-updates InRelease [119 kB]\n",
            "Hit:6 https://ppa.launchpadcontent.net/c2d4u.team/c2d4u4.0+/ubuntu jammy InRelease\n",
            "Hit:7 https://ppa.launchpadcontent.net/deadsnakes/ppa/ubuntu jammy InRelease\n",
            "Hit:8 http://archive.ubuntu.com/ubuntu jammy-backports InRelease\n",
            "Hit:9 https://ppa.launchpadcontent.net/graphics-drivers/ppa/ubuntu jammy InRelease\n",
            "Hit:10 https://ppa.launchpadcontent.net/ubuntugis/ppa/ubuntu jammy InRelease\n",
            "Fetched 119 kB in 2s (76.1 kB/s)\n",
            "Reading package lists... Done\n"
          ]
        }
      ],
      "source": [
        "import os\n",
        "# Find the latest version of spark 3.x  from http://www.apache.org/dist/spark/ and enter as the spark version\n",
        "# For example:\n",
        "# spark_version = 'spark-3.4.0'\n",
        "spark_version = 'spark-3.5.1'\n",
        "os.environ['SPARK_VERSION']=spark_version\n",
        "\n",
        "# Install Spark and Java\n",
        "!apt-get update\n",
        "!apt-get install openjdk-11-jdk-headless -qq > /dev/null\n",
        "!wget -q http://www.apache.org/dist/spark/$SPARK_VERSION/$SPARK_VERSION-bin-hadoop3.tgz\n",
        "!tar xf $SPARK_VERSION-bin-hadoop3.tgz\n",
        "!pip install -q findspark\n",
        "\n",
        "# Set Environment Variables\n",
        "os.environ[\"JAVA_HOME\"] = \"/usr/lib/jvm/java-11-openjdk-amd64\"\n",
        "os.environ[\"SPARK_HOME\"] = f\"/content/{spark_version}-bin-hadoop3\"\n",
        "\n",
        "# Start a SparkSession\n",
        "import findspark\n",
        "findspark.init()"
      ]
    },
    {
      "cell_type": "code",
      "execution_count": 2,
      "metadata": {
        "id": "2XbWNf1Te5fM"
      },
      "outputs": [],
      "source": [
        "# Import packages\n",
        "from pyspark.sql import SparkSession\n",
        "import time\n",
        "\n",
        "# Create a SparkSession\n",
        "spark = SparkSession.builder.appName(\"SparkSQL\").getOrCreate()"
      ]
    },
    {
      "cell_type": "code",
      "execution_count": 3,
      "metadata": {
        "id": "wOJqxG_RPSwp"
      },
      "outputs": [],
      "source": [
        "# 1. Read in the AWS S3 bucket into a DataFrame.\n",
        "from pyspark import SparkFiles\n",
        "url = \"https://2u-data-curriculum-team.s3.amazonaws.com/dataviz-classroom/v1.2/22-big-data/home_sales_revised.csv\"\n",
        "\n"
      ]
    },
    {
      "cell_type": "code",
      "execution_count": 4,
      "metadata": {
        "colab": {
          "base_uri": "https://localhost:8080/"
        },
        "id": "RoljcJ7WPpnm",
        "outputId": "f29b3f64-ffbb-4932-efbe-6fcbc9d69df5"
      },
      "outputs": [
        {
          "name": "stdout",
          "output_type": "stream",
          "text": [
            "+--------------------+----------+----------+------+--------+---------+-----------+--------+------+----------+----+\n",
            "|                  id|      date|date_built| price|bedrooms|bathrooms|sqft_living|sqft_lot|floors|waterfront|view|\n",
            "+--------------------+----------+----------+------+--------+---------+-----------+--------+------+----------+----+\n",
            "|f8a53099-ba1c-47d...|2022-04-08|      2016|936923|       4|        3|       3167|   11733|     2|         1|  76|\n",
            "|7530a2d8-1ae3-451...|2021-06-13|      2013|379628|       2|        2|       2235|   14384|     1|         0|  23|\n",
            "|43de979c-0bf0-4c9...|2019-04-12|      2014|417866|       2|        2|       2127|   10575|     2|         0|   0|\n",
            "|b672c137-b88c-48b...|2019-10-16|      2016|239895|       2|        2|       1631|   11149|     2|         0|   0|\n",
            "|e0726d4d-d595-407...|2022-01-08|      2017|424418|       3|        2|       2249|   13878|     2|         0|   4|\n",
            "|5aa00529-0533-46b...|2019-01-30|      2017|218712|       2|        3|       1965|   14375|     2|         0|   7|\n",
            "|131492a1-72e2-4a8...|2020-02-08|      2017|419199|       2|        3|       2062|    8876|     2|         0|   6|\n",
            "|8d54a71b-c520-44e...|2019-07-21|      2010|323956|       2|        3|       1506|   11816|     1|         0|  25|\n",
            "|e81aacfe-17fe-46b...|2020-06-16|      2016|181925|       3|        3|       2137|   11709|     2|         0|  22|\n",
            "|2ed8d509-7372-46d...|2021-08-06|      2015|258710|       3|        3|       1918|    9666|     1|         0|  25|\n",
            "|f876d86f-3c9f-42b...|2019-02-27|      2011|167864|       3|        3|       2471|   13924|     2|         0|  15|\n",
            "|0a2bd445-8508-4d8...|2021-12-30|      2014|337527|       2|        3|       1926|   12556|     1|         0|  23|\n",
            "|941bad30-eb49-4a7...|2020-05-09|      2015|229896|       3|        3|       2197|    8641|     1|         0|   3|\n",
            "|dd61eb34-6589-4c0...|2021-07-25|      2016|210247|       3|        2|       1672|   11986|     2|         0|  28|\n",
            "|f1e4cef7-d151-439...|2019-02-01|      2011|398667|       2|        3|       2331|   11356|     1|         0|   7|\n",
            "|ea620c7b-c2f7-4c6...|2021-05-31|      2011|437958|       3|        3|       2356|   11052|     1|         0|  26|\n",
            "|f233cb41-6f33-4b0...|2021-07-18|      2016|437375|       4|        3|       1704|   11721|     2|         0|  34|\n",
            "|c797ca12-52cd-4b1...|2019-06-08|      2015|288650|       2|        3|       2100|   10419|     2|         0|   7|\n",
            "|0cfe57f3-28c2-472...|2019-10-04|      2015|308313|       3|        3|       1960|    9453|     2|         0|   2|\n",
            "|4566cd2a-ac6e-435...|2019-07-15|      2016|177541|       3|        3|       2130|   10517|     2|         0|  25|\n",
            "+--------------------+----------+----------+------+--------+---------+-----------+--------+------+----------+----+\n",
            "only showing top 20 rows\n",
            "\n"
          ]
        }
      ],
      "source": [
        "# 2. Create a temporary view of the DataFrame.\n",
        "spark.sparkContext.addFile(url)\n",
        "df = spark.read.csv(\"file://\" + SparkFiles.get(\"home_sales_revised.csv\"), header=True, inferSchema=True)\n",
        "df.createOrReplaceTempView(\"home_sales\")\n",
        "df.show()"
      ]
    },
    {
      "cell_type": "code",
      "execution_count": 5,
      "metadata": {
        "colab": {
          "base_uri": "https://localhost:8080/"
        },
        "id": "L6fkwOeOmqvq",
        "outputId": "151e35ee-1a45-4e48-bfbf-9972dfb60897"
      },
      "outputs": [
        {
          "name": "stdout",
          "output_type": "stream",
          "text": [
            "+--------------------+-----------------------------------+-------------+\n",
            "|round(avg(price), 2)|year(date_format(date, yyyy-MM-dd))|avg(bedrooms)|\n",
            "+--------------------+-----------------------------------+-------------+\n",
            "|           296363.88|                               2022|          4.0|\n",
            "|           301819.44|                               2021|          4.0|\n",
            "|           298353.78|                               2020|          4.0|\n",
            "|            300263.7|                               2019|          4.0|\n",
            "+--------------------+-----------------------------------+-------------+\n",
            "\n"
          ]
        }
      ],
      "source": [
        "# 3. What is the average price for a four bedroom house sold per year, rounded to two decimal places?\n",
        "query = '''\n",
        "SELECT ROUND(AVG(price), 2), YEAR(date_format(date, 'yyyy-MM-dd')), AVG(bedrooms)\n",
        "FROM home_sales\n",
        "WHERE bedrooms = 4\n",
        "GROUP BY YEAR(date_format(date, 'yyyy-MM-dd'))\n",
        "ORDER BY YEAR(date_format(date, 'yyyy-MM-dd')) DESC\n",
        "'''\n",
        "result = spark.sql(query)\n",
        "\n",
        "result.show()"
      ]
    },
    {
      "cell_type": "code",
      "execution_count": 6,
      "metadata": {
        "colab": {
          "base_uri": "https://localhost:8080/"
        },
        "id": "l8p_tUS8h8it",
        "outputId": "5f1bf51d-aa8b-4bc0-cd25-0ac078e378b2"
      },
      "outputs": [
        {
          "name": "stdout",
          "output_type": "stream",
          "text": [
            "+--------------------+-----------------------------------+-------------+--------------+\n",
            "|round(avg(price), 2)|year(date_format(date, yyyy-MM-dd))|avg(bedrooms)|avg(bathrooms)|\n",
            "+--------------------+-----------------------------------+-------------+--------------+\n",
            "|           292725.69|                               2022|          3.0|           3.0|\n",
            "|           294211.46|                               2021|          3.0|           3.0|\n",
            "|           294204.16|                               2020|          3.0|           3.0|\n",
            "|           287287.82|                               2019|          3.0|           3.0|\n",
            "+--------------------+-----------------------------------+-------------+--------------+\n",
            "\n"
          ]
        }
      ],
      "source": [
        "# 4. What is the average price of a home for each year the home was built,\n",
        "# that have 3 bedrooms and 3 bathrooms, rounded to two decimal places?\n",
        "query = '''\n",
        "SELECT ROUND(AVG(price), 2), YEAR(date_format(date, 'yyyy-MM-dd')), AVG(bedrooms), AVG(bathrooms)\n",
        "FROM home_sales\n",
        "WHERE bedrooms = 3 AND bathrooms = 3\n",
        "GROUP BY YEAR(date_format(date, 'yyyy-MM-dd'))\n",
        "ORDER BY YEAR(date_format(date, 'yyyy-MM-dd')) DESC\n",
        "'''\n",
        "result = spark.sql(query)\n",
        "\n",
        "result.show()\n"
      ]
    },
    {
      "cell_type": "code",
      "execution_count": 7,
      "metadata": {
        "colab": {
          "base_uri": "https://localhost:8080/"
        },
        "id": "Y-Eytz64liDU",
        "outputId": "4730a11b-fa5a-4437-bece-baf22f6f281b"
      },
      "outputs": [
        {
          "name": "stdout",
          "output_type": "stream",
          "text": [
            "+--------------------+-----------------------------------+-------------+----------------+--------------------------+\n",
            "|round(avg(price), 2)|year(date_format(date, yyyy-MM-dd))|avg(bedrooms)|min(sqft_living)|round(avg(sqft_living), 2)|\n",
            "+--------------------+-----------------------------------+-------------+----------------+--------------------------+\n",
            "|           290242.99|                               2022|          3.0|            2000|                   2267.94|\n",
            "|           296330.96|                               2021|          3.0|            2001|                   2281.59|\n",
            "|           292289.09|                               2020|          3.0|            2001|                   2313.66|\n",
            "|           289859.14|                               2019|          3.0|            2000|                   2275.18|\n",
            "+--------------------+-----------------------------------+-------------+----------------+--------------------------+\n",
            "\n"
          ]
        }
      ],
      "source": [
        "# 5. What is the average price of a home for each year the home was built,\n",
        "# that have 3 bedrooms, 3 bathrooms, with two floors,\n",
        "# and are greater than or equal to 2,000 square feet, rounded to two decimal places?\n",
        "query = '''\n",
        "SELECT ROUND(AVG(price), 2), YEAR(date_format(date, 'yyyy-MM-dd')),\n",
        "AVG(bedrooms),\n",
        "MIN(sqft_living),\n",
        "ROUND(AVG(sqft_living), 2)\n",
        "\n",
        "FROM home_sales\n",
        "WHERE bedrooms = 3 AND bathrooms = 3 AND floors = 2 AND sqft_living >= 2000\n",
        "GROUP BY YEAR(date_format(date, 'yyyy-MM-dd'))\n",
        "ORDER BY YEAR(date_format(date, 'yyyy-MM-dd')) DESC\n",
        "'''\n",
        "result = spark.sql(query)\n",
        "\n",
        "result.show()\n"
      ]
    },
    {
      "cell_type": "code",
      "execution_count": 8,
      "metadata": {
        "colab": {
          "base_uri": "https://localhost:8080/"
        },
        "id": "GUrfgOX1pCRd",
        "outputId": "f30339d0-d9f7-416f-bb26-a5902a1ee0c6"
      },
      "outputs": [
        {
          "name": "stdout",
          "output_type": "stream",
          "text": [
            "+----+--------------------+-----------------------------------+-----------------+----------------+--------------------------+\n",
            "|view|round(avg(price), 2)|year(date_format(date, yyyy-MM-dd))|    avg(bedrooms)|min(sqft_living)|round(avg(sqft_living), 2)|\n",
            "+----+--------------------+-----------------------------------+-----------------+----------------+--------------------------+\n",
            "| 100|            977881.5|                               2019|              5.8|            3146|                    4686.8|\n",
            "| 100|            533862.0|                               2022|              4.0|            3773|                    3773.0|\n",
            "| 100|           1147457.5|                               2020|              6.1|            3944|                    5194.3|\n",
            "| 100|           994213.43|                               2021|5.571428571428571|            3425|                   4569.29|\n",
            "|  99|          1134806.56|                               2019|5.333333333333333|            4105|                   5037.78|\n",
            "|  99|          1059749.25|                               2020|              5.5|            3147|                   4737.92|\n",
            "|  99|           1102152.0|                               2022|              5.0|            3253|                    5033.0|\n",
            "|  99|           926397.67|                               2021|5.166666666666667|            3830|                    4483.0|\n",
            "|  98|           1223523.5|                               2019|6.583333333333333|            3006|                   4931.58|\n",
            "|  98|          1005757.83|                               2022|              5.5|            3211|                    4867.5|\n",
            "|  98|            869964.4|                               2021|              4.6|            4103|                    4762.6|\n",
            "|  98|           1071385.0|                               2020|              5.6|            3398|                    4913.0|\n",
            "|  97|          1203860.56|                               2021|6.222222222222222|            3200|                   5160.44|\n",
            "|  97|           1070960.0|                               2019|            5.875|            3441|                    4527.5|\n",
            "|  97|          1366771.67|                               2022|6.666666666666667|            5113|                   5182.67|\n",
            "|  97|           997334.86|                               2020|5.428571428571429|            3146|                    4639.0|\n",
            "|  96|           956291.94|                               2019|            5.125|            3202|                   4503.69|\n",
            "|  96|          1046958.67|                               2021|5.333333333333333|            3872|                    4940.5|\n",
            "|  96|           1147122.5|                               2020|5.583333333333333|            3614|                    5096.0|\n",
            "|  96|            646740.0|                               2022|              4.0|            4006|                    4309.0|\n",
            "+----+--------------------+-----------------------------------+-----------------+----------------+--------------------------+\n",
            "only showing top 20 rows\n",
            "\n",
            "--- 2.0009560585021973 seconds ---\n"
          ]
        }
      ],
      "source": [
        "# 6. What is the average price of a home per \"view\" rating, rounded to two decimal places,\n",
        "# having an average home price greater than or equal to $350,000? Order by descending view rating.\n",
        "# Although this is a small dataset, determine the run time for this query.\n",
        "\n",
        "start_time = time.time()\n",
        "\n",
        "query = '''\n",
        "SELECT view, ROUND(AVG(price), 2), YEAR(date_format(date, 'yyyy-MM-dd')),\n",
        "AVG(bedrooms),\n",
        "MIN(sqft_living),\n",
        "ROUND(AVG(sqft_living), 2)\n",
        "\n",
        "FROM home_sales\n",
        "GROUP BY YEAR(date_format(date, 'yyyy-MM-dd')), view\n",
        "HAVING AVG(price) >= 350000\n",
        "ORDER BY view DESC\n",
        "'''\n",
        "result = spark.sql(query)\n",
        "\n",
        "result.show()\n",
        "\n",
        "print(\"--- %s seconds ---\" % (time.time() - start_time))"
      ]
    },
    {
      "cell_type": "code",
      "execution_count": 9,
      "metadata": {
        "colab": {
          "base_uri": "https://localhost:8080/"
        },
        "id": "KAhk3ZD2tFy8",
        "outputId": "309fcf73-8aa2-4e96-fc5e-d10e3537ef61"
      },
      "outputs": [
        {
          "data": {
            "text/plain": [
              "DataFrame[id: string, date: date, date_built: int, price: int, bedrooms: int, bathrooms: int, sqft_living: int, sqft_lot: int, floors: int, waterfront: int, view: int]"
            ]
          },
          "execution_count": 9,
          "metadata": {},
          "output_type": "execute_result"
        }
      ],
      "source": [
        "# 7. Cache the the temporary table home_sales.\n",
        "spark.table(\"home_sales\").cache()\n"
      ]
    },
    {
      "cell_type": "code",
      "execution_count": 10,
      "metadata": {
        "colab": {
          "base_uri": "https://localhost:8080/"
        },
        "id": "4opVhbvxtL-i",
        "outputId": "6878126b-9bb5-44fd-9dd0-6be7cdc46f0e"
      },
      "outputs": [
        {
          "data": {
            "text/plain": [
              "True"
            ]
          },
          "execution_count": 10,
          "metadata": {},
          "output_type": "execute_result"
        }
      ],
      "source": [
        "# 8. Check if the table is cached.\n",
        "spark.catalog.isCached('home_sales')"
      ]
    },
    {
      "cell_type": "code",
      "execution_count": 11,
      "metadata": {
        "colab": {
          "base_uri": "https://localhost:8080/"
        },
        "id": "5GnL46lwTSEk",
        "outputId": "5f754e8d-86ce-4236-8999-a6b17a7057a9"
      },
      "outputs": [
        {
          "name": "stdout",
          "output_type": "stream",
          "text": [
            "+----+--------------------+-----------------------------------+-----------------+----------------+--------------------------+\n",
            "|view|round(avg(price), 2)|year(date_format(date, yyyy-MM-dd))|    avg(bedrooms)|min(sqft_living)|round(avg(sqft_living), 2)|\n",
            "+----+--------------------+-----------------------------------+-----------------+----------------+--------------------------+\n",
            "| 100|            977881.5|                               2019|              5.8|            3146|                    4686.8|\n",
            "| 100|            533862.0|                               2022|              4.0|            3773|                    3773.0|\n",
            "| 100|           1147457.5|                               2020|              6.1|            3944|                    5194.3|\n",
            "| 100|           994213.43|                               2021|5.571428571428571|            3425|                   4569.29|\n",
            "|  99|          1134806.56|                               2019|5.333333333333333|            4105|                   5037.78|\n",
            "|  99|          1059749.25|                               2020|              5.5|            3147|                   4737.92|\n",
            "|  99|           1102152.0|                               2022|              5.0|            3253|                    5033.0|\n",
            "|  99|           926397.67|                               2021|5.166666666666667|            3830|                    4483.0|\n",
            "|  98|           1223523.5|                               2019|6.583333333333333|            3006|                   4931.58|\n",
            "|  98|          1005757.83|                               2022|              5.5|            3211|                    4867.5|\n",
            "|  98|            869964.4|                               2021|              4.6|            4103|                    4762.6|\n",
            "|  98|           1071385.0|                               2020|              5.6|            3398|                    4913.0|\n",
            "|  97|          1203860.56|                               2021|6.222222222222222|            3200|                   5160.44|\n",
            "|  97|           1070960.0|                               2019|            5.875|            3441|                    4527.5|\n",
            "|  97|          1366771.67|                               2022|6.666666666666667|            5113|                   5182.67|\n",
            "|  97|           997334.86|                               2020|5.428571428571429|            3146|                    4639.0|\n",
            "|  96|           956291.94|                               2019|            5.125|            3202|                   4503.69|\n",
            "|  96|          1046958.67|                               2021|5.333333333333333|            3872|                    4940.5|\n",
            "|  96|           1147122.5|                               2020|5.583333333333333|            3614|                    5096.0|\n",
            "|  96|            646740.0|                               2022|              4.0|            4006|                    4309.0|\n",
            "+----+--------------------+-----------------------------------+-----------------+----------------+--------------------------+\n",
            "only showing top 20 rows\n",
            "\n",
            "--- 2.9421961307525635 seconds ---\n"
          ]
        }
      ],
      "source": [
        "# 9. Using the cached data, run the last query above, that calculates\n",
        "# the average price of a home per \"view\" rating, rounded to two decimal places,\n",
        "# having an average home price greater than or equal to $350,000.\n",
        "# Determine the runtime and compare it to the uncached runtime.\n",
        "\n",
        "start_time = time.time()\n",
        "\n",
        "cached_result = spark.sql(query)\n",
        "cached_result.show()\n",
        "\n",
        "print(\"--- %s seconds ---\" % (time.time() - start_time))\n"
      ]
    },
    {
      "cell_type": "code",
      "execution_count": 12,
      "metadata": {
        "id": "Qm12WN9isHBR"
      },
      "outputs": [],
      "source": [
        "# 10. Partition by the \"date_built\" field on the formatted parquet home sales data\n",
        "df.write.partitionBy(\"date_built\").mode(\"overwrite\").parquet(\"parquet\")"
      ]
    },
    {
      "cell_type": "code",
      "execution_count": 13,
      "metadata": {
        "id": "AZ7BgY61sRqY"
      },
      "outputs": [],
      "source": [
        "# 11. Read the parquet formatted data.\n",
        "p_df=spark.read.parquet('parquet')\n"
      ]
    },
    {
      "cell_type": "code",
      "execution_count": 14,
      "metadata": {
        "id": "J6MJkHfvVcvh"
      },
      "outputs": [],
      "source": [
        "# 12. Create a temporary table for the parquet data.\n",
        "p_df.createOrReplaceTempView('p_df_home_sales')\n"
      ]
    },
    {
      "cell_type": "code",
      "execution_count": 15,
      "metadata": {
        "colab": {
          "base_uri": "https://localhost:8080/"
        },
        "id": "G_Vhb52rU1Sn",
        "outputId": "d9e44626-7831-403e-8d0a-49e52db53257"
      },
      "outputs": [
        {
          "name": "stdout",
          "output_type": "stream",
          "text": [
            "+----+--------------------+-----------------------------------+-----------------+----------------+--------------------------+\n",
            "|view|round(avg(price), 2)|year(date_format(date, yyyy-MM-dd))|    avg(bedrooms)|min(sqft_living)|round(avg(sqft_living), 2)|\n",
            "+----+--------------------+-----------------------------------+-----------------+----------------+--------------------------+\n",
            "| 100|            977881.5|                               2019|              5.8|            3146|                    4686.8|\n",
            "| 100|            533862.0|                               2022|              4.0|            3773|                    3773.0|\n",
            "| 100|           1147457.5|                               2020|              6.1|            3944|                    5194.3|\n",
            "| 100|           994213.43|                               2021|5.571428571428571|            3425|                   4569.29|\n",
            "|  99|          1134806.56|                               2019|5.333333333333333|            4105|                   5037.78|\n",
            "|  99|          1059749.25|                               2020|              5.5|            3147|                   4737.92|\n",
            "|  99|           1102152.0|                               2022|              5.0|            3253|                    5033.0|\n",
            "|  99|           926397.67|                               2021|5.166666666666667|            3830|                    4483.0|\n",
            "|  98|            869964.4|                               2021|              4.6|            4103|                    4762.6|\n",
            "|  98|          1005757.83|                               2022|              5.5|            3211|                    4867.5|\n",
            "|  98|           1223523.5|                               2019|6.583333333333333|            3006|                   4931.58|\n",
            "|  98|           1071385.0|                               2020|              5.6|            3398|                    4913.0|\n",
            "|  97|          1366771.67|                               2022|6.666666666666667|            5113|                   5182.67|\n",
            "|  97|           997334.86|                               2020|5.428571428571429|            3146|                    4639.0|\n",
            "|  97|           1070960.0|                               2019|            5.875|            3441|                    4527.5|\n",
            "|  97|          1203860.56|                               2021|6.222222222222222|            3200|                   5160.44|\n",
            "|  96|          1046958.67|                               2021|5.333333333333333|            3872|                    4940.5|\n",
            "|  96|            646740.0|                               2022|              4.0|            4006|                    4309.0|\n",
            "|  96|           1147122.5|                               2020|5.583333333333333|            3614|                    5096.0|\n",
            "|  96|           956291.94|                               2019|            5.125|            3202|                   4503.69|\n",
            "+----+--------------------+-----------------------------------+-----------------+----------------+--------------------------+\n",
            "only showing top 20 rows\n",
            "\n",
            "--- 1.352325439453125 seconds ---\n"
          ]
        }
      ],
      "source": [
        "# 13. Using the parquet DataFrame, run the last query above, that calculates\n",
        "# the average price of a home per \"view\" rating, rounded to two decimal places,\n",
        "# having an average home price greater than or equal to $350,000.\n",
        "# Determine the runtime and compare it to the cached runtime.\n",
        "\n",
        "start_time = time.time()\n",
        "query = '''\n",
        "SELECT view, ROUND(AVG(price), 2), YEAR(date_format(date, 'yyyy-MM-dd')),\n",
        "AVG(bedrooms),\n",
        "MIN(sqft_living),\n",
        "ROUND(AVG(sqft_living), 2)\n",
        "\n",
        "FROM p_df_home_sales\n",
        "GROUP BY YEAR(date_format(date, 'yyyy-MM-dd')), view\n",
        "HAVING AVG(price) >= 350000\n",
        "ORDER BY view DESC\n",
        "'''\n",
        "\n",
        "spark.sql(query).show()\n",
        "\n",
        "print(\"--- %s seconds ---\" % (time.time() - start_time))"
      ]
    },
    {
      "cell_type": "code",
      "execution_count": 16,
      "metadata": {
        "colab": {
          "base_uri": "https://localhost:8080/"
        },
        "id": "hjjYzQGjtbq8",
        "outputId": "18dd6dcf-3b33-4cdc-bdbe-7034940c042d"
      },
      "outputs": [
        {
          "data": {
            "text/plain": [
              "DataFrame[]"
            ]
          },
          "execution_count": 16,
          "metadata": {},
          "output_type": "execute_result"
        }
      ],
      "source": [
        "# 14. Uncache the home_sales temporary table.\n",
        "spark.sql(\"uncache table home_sales\")\n"
      ]
    },
    {
      "cell_type": "code",
      "execution_count": 17,
      "metadata": {
        "colab": {
          "base_uri": "https://localhost:8080/"
        },
        "id": "Sy9NBvO7tlmm",
        "outputId": "a5648791-79c6-4d6e-93db-98dbc4efaea5"
      },
      "outputs": [
        {
          "data": {
            "text/plain": [
              "False"
            ]
          },
          "execution_count": 17,
          "metadata": {},
          "output_type": "execute_result"
        }
      ],
      "source": [
        "# 15. Check if the home_sales is no longer cached\n",
        "spark.catalog.isCached('home_sales')"
      ]
    }
  ],
  "metadata": {
    "colab": {
      "provenance": []
    },
    "gpuClass": "standard",
    "kernelspec": {
      "display_name": "Python 3 (ipykernel)",
      "language": "python",
      "name": "python3"
    },
    "language_info": {
      "codemirror_mode": {
        "name": "ipython",
        "version": 3
      },
      "file_extension": ".py",
      "mimetype": "text/x-python",
      "name": "python",
      "nbconvert_exporter": "python",
      "pygments_lexer": "ipython3",
      "version": "3.10.4"
    },
    "nteract": {
      "version": "0.28.0"
    }
  },
  "nbformat": 4,
  "nbformat_minor": 0
}
